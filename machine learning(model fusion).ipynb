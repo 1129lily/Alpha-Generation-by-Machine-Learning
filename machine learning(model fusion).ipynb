{
 "cells": [
  {
   "cell_type": "code",
   "execution_count": 1,
   "metadata": {},
   "outputs": [],
   "source": [
    "# from pathlib import Path\n",
    "import numpy as np \n",
    "import pandas as pd\n",
    "import seaborn as sns\n",
    "import matplotlib.pyplot as plt\n",
    "import warnings\n",
    "warnings.filterwarnings(\"ignore\")\n",
    "import time"
   ]
  },
  {
   "cell_type": "code",
   "execution_count": 17,
   "metadata": {},
   "outputs": [],
   "source": [
    "# linear model\n",
    "from sklearn.linear_model import ElasticNet, Lasso, Ridge, BayesianRidge, HuberRegressor, RANSACRegressor\n",
    "\n",
    "# boosting model\n",
    "from xgboost import XGBRegressor\n",
    "from lightgbm import LGBMRegressor\n",
    "from catboost import CatBoostRegressor\n",
    "\n",
    "# other models\n",
    "from sklearn.svm import SVR, LinearSVR, NuSVR            \n",
    "from sklearn.neighbors import KNeighborsRegressor \n",
    "from sklearn.neural_network import MLPRegressor\n",
    "from sklearn.gaussian_process import GaussianProcessRegressor"
   ]
  },
  {
   "cell_type": "code",
   "execution_count": 18,
   "metadata": {},
   "outputs": [],
   "source": [
    "from sklearn.model_selection import TimeSeriesSplit, GridSearchCV ,cross_val_score ,cross_validate, RandomizedSearchCV\n",
    "# from mlxtend.classifier import EnsembleVoteClassifier\n",
    "# from sklearn.metrics import accuracy_score, roc_auc_score\n",
    "from sklearn.ensemble import VotingRegressor\n",
    "\n",
    "\n",
    "from scipy.stats import spearmanr\n",
    "from sklearn.feature_selection import mutual_info_regression\n",
    "from sklearn.preprocessing import StandardScaler\n",
    "from sklearn.pipeline import Pipeline\n",
    "from sklearn.metrics import make_scorer\n",
    "# from yellowbrick.model_selection import ValidationCurve, LearningCurve"
   ]
  },
  {
   "cell_type": "code",
   "execution_count": 4,
   "metadata": {},
   "outputs": [],
   "source": [
    "df_all = pd.read_pickle('data/merged data7.pkl.zip')\n",
    "df_all.reset_index(drop=True, inplace=True)"
   ]
  },
  {
   "cell_type": "code",
   "execution_count": 5,
   "metadata": {},
   "outputs": [],
   "source": [
    "df_all['Ticker_code'] = df_all['Ticker'].astype('category').cat.codes\n",
    "df_all['date_period'] = (df_all['date'] - min(df_all['date'])).dt.days + 1\n",
    "df_all.sort_values('date', inplace=True)"
   ]
  },
  {
   "cell_type": "code",
   "execution_count": 6,
   "metadata": {},
   "outputs": [],
   "source": [
    "df_data = df_all[list(df_all.columns[3:])]\n",
    "df_target = df_all['alpha']"
   ]
  },
  {
   "cell_type": "code",
   "execution_count": 10,
   "metadata": {},
   "outputs": [],
   "source": [
    "timecv= TimeSeriesSplit(n_splits=3)"
   ]
  },
  {
   "cell_type": "code",
   "execution_count": null,
   "metadata": {},
   "outputs": [
    {
     "name": "stdout",
     "output_type": "stream",
     "text": [
      "[LightGBM] [Info] Auto-choosing col-wise multi-threading, the overhead of testing was 0.054431 seconds.\n",
      "You can set `force_col_wise=true` to remove the overhead.\n",
      "[LightGBM] [Info] Total Bins 21534\n",
      "[LightGBM] [Info] Number of data points in the train set: 74222, number of used features: 89\n",
      "[LightGBM] [Info] Start training from score -0.799139\n",
      "[LightGBM] [Info] Auto-choosing col-wise multi-threading, the overhead of testing was 0.087821 seconds.\n",
      "You can set `force_col_wise=true` to remove the overhead.\n",
      "[LightGBM] [Info] Total Bins 21613\n",
      "[LightGBM] [Info] Number of data points in the train set: 148444, number of used features: 89\n",
      "[LightGBM] [Info] Start training from score -0.314705\n",
      "[LightGBM] [Info] Auto-choosing col-wise multi-threading, the overhead of testing was 0.250394 seconds.\n",
      "You can set `force_col_wise=true` to remove the overhead.\n",
      "[LightGBM] [Info] Total Bins 21688\n",
      "[LightGBM] [Info] Number of data points in the train set: 222666, number of used features: 89\n",
      "[LightGBM] [Info] Start training from score -0.259635\n",
      "Soft Voting Regressor :  -1.1140221268455328\n"
     ]
    }
   ],
   "source": [
    "#SOFTVOTING\n",
    "voting_regressor = VotingRegressor(\n",
    "    estimators=[\n",
    "        ('xgb', XGBRegressor()),\n",
    "        ('lgbm', LGBMRegressor()),\n",
    "        ('cat', CatBoostRegressor(verbose=0))\n",
    "    ],\n",
    "    weights=[1, 1, 1]\n",
    ")\n",
    "MSE_voting = cross_val_score(voting_regressor, df_data, df_target, cv=timecv, scoring='neg_mean_squared_error').mean()\n",
    "print(\"Soft Voting Regressor : \", MSE_voting)"
   ]
  },
  {
   "cell_type": "code",
   "execution_count": 19,
   "metadata": {},
   "outputs": [
    {
     "ename": "NameError",
     "evalue": "name 'param_dist' is not defined",
     "output_type": "error",
     "traceback": [
      "\u001b[1;31m---------------------------------------------------------------------------\u001b[0m",
      "\u001b[1;31mNameError\u001b[0m                                 Traceback (most recent call last)",
      "Cell \u001b[1;32mIn[19], line 9\u001b[0m\n\u001b[0;32m      1\u001b[0m random_search \u001b[38;5;241m=\u001b[39m RandomizedSearchCV(\n\u001b[0;32m      2\u001b[0m     VotingRegressor(\n\u001b[0;32m      3\u001b[0m         estimators\u001b[38;5;241m=\u001b[39m[\n\u001b[0;32m      4\u001b[0m             (\u001b[38;5;124m'\u001b[39m\u001b[38;5;124mxgb\u001b[39m\u001b[38;5;124m'\u001b[39m, XGBRegressor()),\n\u001b[0;32m      5\u001b[0m             (\u001b[38;5;124m'\u001b[39m\u001b[38;5;124mlgbm\u001b[39m\u001b[38;5;124m'\u001b[39m, LGBMRegressor()),\n\u001b[0;32m      6\u001b[0m             (\u001b[38;5;124m'\u001b[39m\u001b[38;5;124mcat\u001b[39m\u001b[38;5;124m'\u001b[39m, CatBoostRegressor(verbose\u001b[38;5;241m=\u001b[39m\u001b[38;5;241m0\u001b[39m))\n\u001b[0;32m      7\u001b[0m         ]\n\u001b[0;32m      8\u001b[0m     ),\n\u001b[1;32m----> 9\u001b[0m     param_distributions\u001b[38;5;241m=\u001b[39mparam_dist,\n\u001b[0;32m     10\u001b[0m     n_iter\u001b[38;5;241m=\u001b[39m\u001b[38;5;241m20\u001b[39m,  \n\u001b[0;32m     11\u001b[0m     cv\u001b[38;5;241m=\u001b[39mtimecv,  \n\u001b[0;32m     12\u001b[0m     scoring\u001b[38;5;241m=\u001b[39m\u001b[38;5;124m'\u001b[39m\u001b[38;5;124mneg_mean_squared_error\u001b[39m\u001b[38;5;124m'\u001b[39m,\n\u001b[0;32m     13\u001b[0m     random_state\u001b[38;5;241m=\u001b[39m\u001b[38;5;241m42\u001b[39m,\n\u001b[0;32m     14\u001b[0m     verbose\u001b[38;5;241m=\u001b[39m\u001b[38;5;241m1\u001b[39m\n\u001b[0;32m     15\u001b[0m )\n\u001b[0;32m     17\u001b[0m random_search\u001b[38;5;241m.\u001b[39mfit(df_data, df_target)\n\u001b[0;32m     18\u001b[0m \u001b[38;5;28mprint\u001b[39m(\u001b[38;5;124m\"\u001b[39m\u001b[38;5;124mBest weights:\u001b[39m\u001b[38;5;124m\"\u001b[39m, random_search\u001b[38;5;241m.\u001b[39mbest_params_)\n",
      "\u001b[1;31mNameError\u001b[0m: name 'param_dist' is not defined"
     ]
    }
   ],
   "source": [
    "random_search = RandomizedSearchCV(\n",
    "    VotingRegressor(\n",
    "        estimators=[\n",
    "            ('xgb', XGBRegressor()),\n",
    "            ('lgbm', LGBMRegressor()),\n",
    "            ('cat', CatBoostRegressor(verbose=0))\n",
    "        ]\n",
    "    ),\n",
    "    param_distributions=param_dist,\n",
    "    n_iter=20,  \n",
    "    cv=timecv,  \n",
    "    scoring='neg_mean_squared_error',\n",
    "    random_state=42,\n",
    "    verbose=1\n",
    ")\n",
    "\n",
    "random_search.fit(df_data, df_target)\n",
    "print(\"Best weights:\", random_search.best_params_)\n",
    "print(\"Best score:\", random_search.best_score_)"
   ]
  },
  {
   "cell_type": "code",
   "execution_count": null,
   "metadata": {},
   "outputs": [],
   "source": []
  }
 ],
 "metadata": {
  "kernelspec": {
   "display_name": "base",
   "language": "python",
   "name": "python3"
  },
  "language_info": {
   "codemirror_mode": {
    "name": "ipython",
    "version": 3
   },
   "file_extension": ".py",
   "mimetype": "text/x-python",
   "name": "python",
   "nbconvert_exporter": "python",
   "pygments_lexer": "ipython3",
   "version": "3.12.3"
  }
 },
 "nbformat": 4,
 "nbformat_minor": 2
}
