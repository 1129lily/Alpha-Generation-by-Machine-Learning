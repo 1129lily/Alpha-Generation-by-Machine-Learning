{
 "cells": [
  {
   "cell_type": "code",
   "execution_count": 5,
   "metadata": {},
   "outputs": [],
   "source": [
    "%matplotlib inline\n",
    "import numpy as np\n",
    "import pandas as pd\n",
    "import pandas_datareader.data as web\n",
    "import yfinance as yf\n",
    "\n",
    "import statsmodels.api as sm\n",
    "from statsmodels.regression.rolling import RollingOLS\n",
    "from sklearn.preprocessing import scale\n",
    "from scipy.stats.mstats import winsorize\n",
    "import talib\n",
    "\n",
    "import warnings\n",
    "warnings.filterwarnings('ignore')"
   ]
  },
  {
   "cell_type": "code",
   "execution_count": 6,
   "metadata": {},
   "outputs": [],
   "source": [
    "# sns.set_style('whitegrid')\n",
    "idx = pd.IndexSlice\n",
    "deciles = np.arange(.1, 1, .1).round(1)\n",
    "function_groups = ['Overlap Studies',\n",
    "                   'Momentum Indicators',\n",
    "                   'Volume Indicators',\n",
    "                   'Volatility Indicators',\n",
    "                   'Price Transform',\n",
    "                   'Cycle Indicators',\n",
    "                   'Pattern Recognition',\n",
    "                   'Statistic Functions',\n",
    "                   'Math Transform',\n",
    "                   'Math Operators']\n",
    "talib_grps = talib.get_function_groups()"
   ]
  },
  {
   "cell_type": "code",
   "execution_count": 7,
   "metadata": {},
   "outputs": [],
   "source": [
    "df_close = pd.read_pickle(\"other/close price.pkl.zip\")\n",
    "df_high = pd.read_pickle(\"other/high price.pkl.zip\")\n",
    "df_low = pd.read_pickle(\"other/low price.pkl.zip\")\n",
    "df_open = pd.read_pickle(\"other/open price.pkl.zip\")\n",
    "df_volume = pd.read_pickle(\"other/volume.pkl.zip\")"
   ]
  },
  {
   "cell_type": "markdown",
   "metadata": {},
   "source": [
    "# stock return"
   ]
  },
  {
   "cell_type": "code",
   "execution_count": 45,
   "metadata": {},
   "outputs": [],
   "source": [
    "df_return_long = pd.read_pickle(\"return/stock return(for integration).pkl.zip\")"
   ]
  },
  {
   "cell_type": "code",
   "execution_count": 46,
   "metadata": {},
   "outputs": [
    {
     "data": {
      "text/html": [
       "<div>\n",
       "<style scoped>\n",
       "    .dataframe tbody tr th:only-of-type {\n",
       "        vertical-align: middle;\n",
       "    }\n",
       "\n",
       "    .dataframe tbody tr th {\n",
       "        vertical-align: top;\n",
       "    }\n",
       "\n",
       "    .dataframe thead th {\n",
       "        text-align: right;\n",
       "    }\n",
       "</style>\n",
       "<table border=\"1\" class=\"dataframe\">\n",
       "  <thead>\n",
       "    <tr style=\"text-align: right;\">\n",
       "      <th></th>\n",
       "      <th>date</th>\n",
       "      <th>Ticker</th>\n",
       "      <th>timelag</th>\n",
       "    </tr>\n",
       "  </thead>\n",
       "  <tbody>\n",
       "    <tr>\n",
       "      <th>0</th>\n",
       "      <td>2019-01-02</td>\n",
       "      <td>AAL</td>\n",
       "      <td>2018-12-31</td>\n",
       "    </tr>\n",
       "    <tr>\n",
       "      <th>1</th>\n",
       "      <td>2019-01-03</td>\n",
       "      <td>AAL</td>\n",
       "      <td>2019-01-02</td>\n",
       "    </tr>\n",
       "    <tr>\n",
       "      <th>2</th>\n",
       "      <td>2019-01-04</td>\n",
       "      <td>AAL</td>\n",
       "      <td>2019-01-03</td>\n",
       "    </tr>\n",
       "    <tr>\n",
       "      <th>3</th>\n",
       "      <td>2019-01-07</td>\n",
       "      <td>AAL</td>\n",
       "      <td>2019-01-04</td>\n",
       "    </tr>\n",
       "    <tr>\n",
       "      <th>4</th>\n",
       "      <td>2019-01-08</td>\n",
       "      <td>AAL</td>\n",
       "      <td>2019-01-07</td>\n",
       "    </tr>\n",
       "    <tr>\n",
       "      <th>...</th>\n",
       "      <td>...</td>\n",
       "      <td>...</td>\n",
       "      <td>...</td>\n",
       "    </tr>\n",
       "    <tr>\n",
       "      <th>628995</th>\n",
       "      <td>2023-12-22</td>\n",
       "      <td>ZS</td>\n",
       "      <td>2023-12-21</td>\n",
       "    </tr>\n",
       "    <tr>\n",
       "      <th>628996</th>\n",
       "      <td>2023-12-26</td>\n",
       "      <td>ZS</td>\n",
       "      <td>2023-12-22</td>\n",
       "    </tr>\n",
       "    <tr>\n",
       "      <th>628997</th>\n",
       "      <td>2023-12-27</td>\n",
       "      <td>ZS</td>\n",
       "      <td>2023-12-26</td>\n",
       "    </tr>\n",
       "    <tr>\n",
       "      <th>628998</th>\n",
       "      <td>2023-12-28</td>\n",
       "      <td>ZS</td>\n",
       "      <td>2023-12-27</td>\n",
       "    </tr>\n",
       "    <tr>\n",
       "      <th>628999</th>\n",
       "      <td>2023-12-29</td>\n",
       "      <td>ZS</td>\n",
       "      <td>2023-12-28</td>\n",
       "    </tr>\n",
       "  </tbody>\n",
       "</table>\n",
       "<p>571592 rows × 3 columns</p>\n",
       "</div>"
      ],
      "text/plain": [
       "              date Ticker    timelag\n",
       "0       2019-01-02    AAL 2018-12-31\n",
       "1       2019-01-03    AAL 2019-01-02\n",
       "2       2019-01-04    AAL 2019-01-03\n",
       "3       2019-01-07    AAL 2019-01-04\n",
       "4       2019-01-08    AAL 2019-01-07\n",
       "...            ...    ...        ...\n",
       "628995  2023-12-22     ZS 2023-12-21\n",
       "628996  2023-12-26     ZS 2023-12-22\n",
       "628997  2023-12-27     ZS 2023-12-26\n",
       "628998  2023-12-28     ZS 2023-12-27\n",
       "628999  2023-12-29     ZS 2023-12-28\n",
       "\n",
       "[571592 rows x 3 columns]"
      ]
     },
     "execution_count": 46,
     "metadata": {},
     "output_type": "execute_result"
    }
   ],
   "source": [
    "df_return_long"
   ]
  },
  {
   "cell_type": "markdown",
   "metadata": {},
   "source": [
    "# Moving Average"
   ]
  },
  {
   "cell_type": "code",
   "execution_count": 47,
   "metadata": {},
   "outputs": [],
   "source": [
    "df_MA = pd.DataFrame()\n",
    "ls_MA = ['date','Ticker','timelag']"
   ]
  },
  {
   "cell_type": "markdown",
   "metadata": {},
   "source": [
    "## SMA"
   ]
  },
  {
   "cell_type": "code",
   "execution_count": 48,
   "metadata": {},
   "outputs": [],
   "source": [
    "df_SMA_5 = pd.DataFrame()\n",
    "df_SMA_10 = pd.DataFrame()\n",
    "df_SMA_30 = pd.DataFrame()\n",
    "for i in df_close.columns:\n",
    "    df_SMA_5[i] = talib.SMA(df_close[i],timeperiod=5)\n",
    "    df_SMA_10[i] = talib.SMA(df_close[i],timeperiod=10)\n",
    "    df_SMA_30[i] = talib.SMA(df_close[i],timeperiod=30)"
   ]
  },
  {
   "cell_type": "code",
   "execution_count": 49,
   "metadata": {},
   "outputs": [],
   "source": [
    "df_SMA_5_long = pd.melt(df_SMA_5.reset_index(),id_vars='DlyCalDt',var_name='Ticker',value_name='SMA_5')\n",
    "df_SMA_10_long = pd.melt(df_SMA_10.reset_index(),id_vars='DlyCalDt',var_name='Ticker',value_name='SMA_10')\n",
    "df_SMA_30_long = pd.melt(df_SMA_30.reset_index(),id_vars='DlyCalDt',var_name='Ticker',value_name='SMA_30')"
   ]
  },
  {
   "cell_type": "code",
   "execution_count": 50,
   "metadata": {},
   "outputs": [],
   "source": [
    "df_SMA_5_long['DlyCalDt'] = pd.to_datetime(df_SMA_5_long['DlyCalDt'])\n",
    "df_SMA_10_long['DlyCalDt'] = pd.to_datetime(df_SMA_10_long['DlyCalDt'])\n",
    "df_SMA_30_long['DlyCalDt'] = pd.to_datetime(df_SMA_30_long['DlyCalDt'])"
   ]
  },
  {
   "cell_type": "code",
   "execution_count": 51,
   "metadata": {},
   "outputs": [],
   "source": [
    "df_MA = pd.merge(df_return_long,df_SMA_5_long,left_on=['timelag','Ticker'],right_on = ['DlyCalDt','Ticker'],how='left')\n",
    "df_MA = pd.merge(df_MA,df_SMA_10_long,left_on=['timelag','Ticker'],right_on = ['DlyCalDt','Ticker'],how='left')\n",
    "df_MA = pd.merge(df_MA,df_SMA_30_long,left_on=['timelag','Ticker'],right_on = ['DlyCalDt','Ticker'],how='left')\n",
    "ls_MA = ls_MA + ['SMA_5','SMA_10','SMA_30']\n",
    "df_MA = df_MA[ls_MA]"
   ]
  },
  {
   "cell_type": "markdown",
   "metadata": {},
   "source": [
    "## WMA"
   ]
  },
  {
   "cell_type": "code",
   "execution_count": 53,
   "metadata": {},
   "outputs": [],
   "source": [
    "df_WMA_5 = pd.DataFrame()\n",
    "df_WMA_10 = pd.DataFrame()\n",
    "df_WMA_30 = pd.DataFrame()\n",
    "for i in df_close.columns:\n",
    "    df_WMA_5[i] = talib.WMA(df_close[i],timeperiod=5)\n",
    "    df_WMA_10[i] = talib.WMA(df_close[i],timeperiod=10)\n",
    "    df_WMA_30[i] = talib.WMA(df_close[i],timeperiod=30)"
   ]
  },
  {
   "cell_type": "code",
   "execution_count": 54,
   "metadata": {},
   "outputs": [],
   "source": [
    "df_WMA_5_long = pd.melt(df_WMA_5.reset_index(),id_vars='DlyCalDt',var_name='Ticker',value_name='WMA_5')\n",
    "df_WMA_10_long = pd.melt(df_WMA_10.reset_index(),id_vars='DlyCalDt',var_name='Ticker',value_name='WMA_10')\n",
    "df_WMA_30_long = pd.melt(df_WMA_30.reset_index(),id_vars='DlyCalDt',var_name='Ticker',value_name='WMA_30')"
   ]
  },
  {
   "cell_type": "code",
   "execution_count": 55,
   "metadata": {},
   "outputs": [],
   "source": [
    "df_WMA_5_long['DlyCalDt'] = pd.to_datetime(df_WMA_5_long['DlyCalDt'])\n",
    "df_WMA_10_long['DlyCalDt'] = pd.to_datetime(df_WMA_10_long['DlyCalDt'])\n",
    "df_WMA_30_long['DlyCalDt'] = pd.to_datetime(df_WMA_30_long['DlyCalDt'])"
   ]
  },
  {
   "cell_type": "code",
   "execution_count": 56,
   "metadata": {},
   "outputs": [],
   "source": [
    "df_MA = pd.merge(df_MA,df_WMA_5_long,left_on=['timelag','Ticker'],right_on = ['DlyCalDt','Ticker'],how='left')\n",
    "df_MA = pd.merge(df_MA,df_WMA_10_long,left_on=['timelag','Ticker'],right_on = ['DlyCalDt','Ticker'],how='left')\n",
    "df_MA = pd.merge(df_MA,df_WMA_30_long,left_on=['timelag','Ticker'],right_on = ['DlyCalDt','Ticker'],how='left')\n",
    "ls_MA = ls_MA + ['WMA_5','WMA_10','WMA_30']\n",
    "df_MA = df_MA[ls_MA]"
   ]
  },
  {
   "cell_type": "markdown",
   "metadata": {},
   "source": [
    "## TEMA"
   ]
  },
  {
   "cell_type": "code",
   "execution_count": 57,
   "metadata": {},
   "outputs": [],
   "source": [
    "df_TEMA_5 = pd.DataFrame()\n",
    "df_TEMA_10 = pd.DataFrame()\n",
    "df_TEMA_30 = pd.DataFrame()\n",
    "for i in df_close.columns:\n",
    "    df_TEMA_5[i] = talib.TEMA(df_close[i],timeperiod=5)\n",
    "    df_TEMA_10[i] = talib.TEMA(df_close[i],timeperiod=10)\n",
    "    df_TEMA_30[i] = talib.TEMA(df_close[i],timeperiod=30)"
   ]
  },
  {
   "cell_type": "code",
   "execution_count": 58,
   "metadata": {},
   "outputs": [],
   "source": [
    "df_TEMA_5_long = pd.melt(df_TEMA_5.reset_index(),id_vars='DlyCalDt',var_name='Ticker',value_name='TEMA_5')\n",
    "df_TEMA_10_long = pd.melt(df_TEMA_10.reset_index(),id_vars='DlyCalDt',var_name='Ticker',value_name='TEMA_10')\n",
    "df_TEMA_30_long = pd.melt(df_TEMA_30.reset_index(),id_vars='DlyCalDt',var_name='Ticker',value_name='TEMA_30')"
   ]
  },
  {
   "cell_type": "code",
   "execution_count": 59,
   "metadata": {},
   "outputs": [],
   "source": [
    "df_TEMA_5_long['DlyCalDt'] = pd.to_datetime(df_TEMA_5_long['DlyCalDt'])\n",
    "df_TEMA_10_long['DlyCalDt'] = pd.to_datetime(df_TEMA_10_long['DlyCalDt'])\n",
    "df_TEMA_30_long['DlyCalDt'] = pd.to_datetime(df_TEMA_30_long['DlyCalDt'])"
   ]
  },
  {
   "cell_type": "code",
   "execution_count": 60,
   "metadata": {},
   "outputs": [],
   "source": [
    "df_MA = pd.merge(df_MA,df_TEMA_5_long,left_on=['timelag','Ticker'],right_on = ['DlyCalDt','Ticker'],how='left')\n",
    "df_MA = pd.merge(df_MA,df_TEMA_10_long,left_on=['timelag','Ticker'],right_on = ['DlyCalDt','Ticker'],how='left')\n",
    "df_MA = pd.merge(df_MA,df_TEMA_30_long,left_on=['timelag','Ticker'],right_on = ['DlyCalDt','Ticker'],how='left')\n",
    "ls_MA = ls_MA + ['TEMA_5','TEMA_10','TEMA_30']\n",
    "df_MA = df_MA[ls_MA]"
   ]
  },
  {
   "cell_type": "markdown",
   "metadata": {},
   "source": [
    "## MAMA"
   ]
  },
  {
   "cell_type": "code",
   "execution_count": 61,
   "metadata": {},
   "outputs": [],
   "source": [
    "df_MAMA = pd.DataFrame()\n",
    "df_FAMA = pd.DataFrame()\n",
    "for i in df_close.columns:\n",
    "    df_MAMA[i] = talib.MAMA(df_close[i],fastlimit=0.5,slowlimit=0.05)[0]\n",
    "    df_FAMA[i] = talib.MAMA(df_close[i],fastlimit=0.5,slowlimit=0.05)[1]"
   ]
  },
  {
   "cell_type": "code",
   "execution_count": 62,
   "metadata": {},
   "outputs": [],
   "source": [
    "df_MAMA_long = pd.melt(df_MAMA.reset_index(),id_vars='DlyCalDt',var_name='Ticker',value_name='MAMA')\n",
    "df_FAMA_long = pd.melt(df_FAMA.reset_index(),id_vars='DlyCalDt',var_name='Ticker',value_name='FAMA')"
   ]
  },
  {
   "cell_type": "code",
   "execution_count": 63,
   "metadata": {},
   "outputs": [],
   "source": [
    "df_MAMA_long['DlyCalDt'] = pd.to_datetime(df_MAMA_long['DlyCalDt'])\n",
    "df_FAMA_long['DlyCalDt'] = pd.to_datetime(df_FAMA_long['DlyCalDt'])"
   ]
  },
  {
   "cell_type": "code",
   "execution_count": 64,
   "metadata": {},
   "outputs": [],
   "source": [
    "df_MA = pd.merge(df_MA,df_MAMA_long,left_on=['timelag','Ticker'],right_on = ['DlyCalDt','Ticker'],how='left')\n",
    "df_MA = pd.merge(df_MA,df_FAMA_long,left_on=['timelag','Ticker'],right_on = ['DlyCalDt','Ticker'],how='left')\n",
    "ls_MA = ls_MA + ['MAMA','FAMA']\n",
    "df_MA = df_MA[ls_MA]"
   ]
  },
  {
   "cell_type": "markdown",
   "metadata": {},
   "source": [
    "## factors reserve"
   ]
  },
  {
   "cell_type": "code",
   "execution_count": 65,
   "metadata": {},
   "outputs": [
    {
     "data": {
      "text/plain": [
       "date       0\n",
       "Ticker     0\n",
       "timelag    0\n",
       "SMA_5      0\n",
       "SMA_10     0\n",
       "SMA_30     0\n",
       "WMA_5      0\n",
       "WMA_10     0\n",
       "WMA_30     0\n",
       "TEMA_5     0\n",
       "TEMA_10    0\n",
       "TEMA_30    0\n",
       "MAMA       0\n",
       "FAMA       0\n",
       "dtype: int64"
      ]
     },
     "execution_count": 65,
     "metadata": {},
     "output_type": "execute_result"
    }
   ],
   "source": [
    "df_MA.isnull().sum()"
   ]
  },
  {
   "cell_type": "code",
   "execution_count": 66,
   "metadata": {},
   "outputs": [],
   "source": [
    "df_MA.drop(\"timelag\",axis = 1).to_pickle(\"factor/Moving Averages.pkl.zip\",compression='zip')"
   ]
  },
  {
   "cell_type": "markdown",
   "metadata": {},
   "source": [
    "# Overlap"
   ]
  },
  {
   "cell_type": "code",
   "execution_count": 68,
   "metadata": {},
   "outputs": [],
   "source": [
    "df_overlap = pd.DataFrame()\n",
    "ls_overlap = ['date','Ticker','timelag']"
   ]
  },
  {
   "cell_type": "markdown",
   "metadata": {},
   "source": [
    "## Bollinger Bands"
   ]
  },
  {
   "cell_type": "markdown",
   "metadata": {},
   "source": [
    "### factor generation"
   ]
  },
  {
   "cell_type": "code",
   "execution_count": 69,
   "metadata": {},
   "outputs": [],
   "source": [
    "df_BBANDS_upper = pd.DataFrame()\n",
    "df_BBANDS_middle = pd.DataFrame()\n",
    "df_BBANDS_lower = pd.DataFrame()\n",
    "for i in df_close.columns:\n",
    "    df_BBANDS_upper[i] = talib.BBANDS(df_close[i],timeperiod=20,nbdevup=2,nbdevdn=2,matype=1)[0]\n",
    "    df_BBANDS_middle[i] = talib.BBANDS(df_close[i],timeperiod=20,nbdevup=2,nbdevdn=2,matype=1)[1]\n",
    "    df_BBANDS_lower[i] = talib.BBANDS(df_close[i],timeperiod=20,nbdevup=2,nbdevdn=2,matype=1)[2]"
   ]
  },
  {
   "cell_type": "code",
   "execution_count": 70,
   "metadata": {},
   "outputs": [],
   "source": [
    "df_BBANDS_upper_long = pd.melt(df_BBANDS_upper.reset_index(),id_vars='DlyCalDt',var_name='Ticker',value_name='BBANDS_upper')\n",
    "df_BBANDS_middle_long = pd.melt(df_BBANDS_middle.reset_index(),id_vars='DlyCalDt',var_name='Ticker',value_name='BBANDS_middle')\n",
    "df_BBANDS_lower_long = pd.melt(df_BBANDS_lower.reset_index(),id_vars='DlyCalDt',var_name='Ticker',value_name='BBANDS_lower')"
   ]
  },
  {
   "cell_type": "code",
   "execution_count": 71,
   "metadata": {},
   "outputs": [],
   "source": [
    "df_BBANDS_upper_long['DlyCalDt'] = pd.to_datetime(df_BBANDS_upper_long['DlyCalDt'])\n",
    "df_BBANDS_middle_long['DlyCalDt'] = pd.to_datetime(df_BBANDS_middle_long['DlyCalDt'])\n",
    "df_BBANDS_lower_long['DlyCalDt'] = pd.to_datetime(df_BBANDS_lower_long['DlyCalDt'])"
   ]
  },
  {
   "cell_type": "code",
   "execution_count": 72,
   "metadata": {},
   "outputs": [],
   "source": [
    "df_overlap = pd.merge(df_return_long,df_BBANDS_upper_long,left_on=['timelag','Ticker'],right_on = ['DlyCalDt','Ticker'],how='left')\n",
    "df_overlap = pd.merge(df_overlap,df_BBANDS_middle_long,left_on=['timelag','Ticker'],right_on = ['DlyCalDt','Ticker'],how='left')\n",
    "df_overlap = pd.merge(df_overlap,df_BBANDS_lower_long,left_on=['timelag','Ticker'],right_on = ['DlyCalDt','Ticker'],how='left')\n",
    "ls_overlap += ['BBANDS_upper','BBANDS_middle','BBANDS_lower']\n",
    "df_overlap = df_overlap[ls_overlap]"
   ]
  },
  {
   "cell_type": "markdown",
   "metadata": {},
   "source": [
    "### Normalized squeeze & mean reversion indicators"
   ]
  },
  {
   "cell_type": "code",
   "execution_count": 73,
   "metadata": {},
   "outputs": [],
   "source": [
    "df_bb_up = df_BBANDS_upper/df_close\n",
    "df_bb_low = df_BBANDS_lower/df_close\n",
    "df_bb_squeeze = (df_bb_up - df_bb_low)/df_close"
   ]
  },
  {
   "cell_type": "code",
   "execution_count": 74,
   "metadata": {},
   "outputs": [],
   "source": [
    "df_bb_up_long = pd.melt(df_bb_up.reset_index(),id_vars='DlyCalDt',var_name='Ticker',value_name='BBANDS_up')\n",
    "df_bb_low_long = pd.melt(df_bb_low.reset_index(),id_vars='DlyCalDt',var_name='Ticker',value_name='BBANDS_low')\n",
    "df_bb_squeeze_long = pd.melt(df_bb_squeeze.reset_index(),id_vars='DlyCalDt',var_name='Ticker',value_name='BBANDS_squeeze')"
   ]
  },
  {
   "cell_type": "code",
   "execution_count": 75,
   "metadata": {},
   "outputs": [],
   "source": [
    "df_bb_up_long['DlyCalDt'] = pd.to_datetime(df_bb_up_long['DlyCalDt'])\n",
    "df_bb_low_long['DlyCalDt'] = pd.to_datetime(df_bb_low_long['DlyCalDt'])\n",
    "df_bb_squeeze_long['DlyCalDt'] = pd.to_datetime(df_bb_squeeze_long['DlyCalDt'])"
   ]
  },
  {
   "cell_type": "code",
   "execution_count": 76,
   "metadata": {},
   "outputs": [],
   "source": [
    "df_overlap = pd.merge(df_overlap,df_bb_up_long,left_on=['timelag','Ticker'],right_on = ['DlyCalDt','Ticker'],how='left')\n",
    "df_overlap = pd.merge(df_overlap,df_bb_low_long,left_on=['timelag','Ticker'],right_on = ['DlyCalDt','Ticker'],how='left')\n",
    "df_overlap = pd.merge(df_overlap,df_bb_squeeze_long,left_on=['timelag','Ticker'],right_on = ['DlyCalDt','Ticker'],how='left')\n",
    "ls_overlap += ['BBANDS_up','BBANDS_low','BBANDS_squeeze']\n",
    "df_overlap = df_overlap[ls_overlap]"
   ]
  },
  {
   "cell_type": "markdown",
   "metadata": {},
   "source": [
    "## Hilbert Transform - Instantaneous Trendline"
   ]
  },
  {
   "cell_type": "markdown",
   "metadata": {},
   "source": [
    "### factor generation"
   ]
  },
  {
   "cell_type": "code",
   "execution_count": 77,
   "metadata": {},
   "outputs": [],
   "source": [
    "df_HTITREND = pd.DataFrame()\n",
    "for i in df_close.columns:\n",
    "    df_HTITREND[i] = talib.HT_TRENDLINE(df_close[i])"
   ]
  },
  {
   "cell_type": "code",
   "execution_count": 78,
   "metadata": {},
   "outputs": [],
   "source": [
    "df_HTITREND_long = pd.melt(df_HTITREND.reset_index(),id_vars='DlyCalDt',var_name='Ticker',value_name='HTITREND')\n",
    "df_HTITREND_long['DlyCalDt'] = pd.to_datetime(df_HTITREND_long['DlyCalDt'])"
   ]
  },
  {
   "cell_type": "code",
   "execution_count": 79,
   "metadata": {},
   "outputs": [],
   "source": [
    "df_overlap = pd.merge(df_overlap,df_HTITREND_long,left_on=['timelag','Ticker'],right_on = ['DlyCalDt','Ticker'],how='left')\n",
    "ls_overlap += ['HTITREND']\n",
    "df_overlap = df_overlap[ls_overlap]"
   ]
  },
  {
   "cell_type": "markdown",
   "metadata": {},
   "source": [
    "### Hilbert-based normalized indicator"
   ]
  },
  {
   "cell_type": "code",
   "execution_count": 80,
   "metadata": {},
   "outputs": [],
   "source": [
    "df_HT_norm = df_HTITREND/df_close - 1"
   ]
  },
  {
   "cell_type": "code",
   "execution_count": 81,
   "metadata": {},
   "outputs": [],
   "source": [
    "df_HT_norm_long = pd.melt(df_HT_norm.reset_index(),id_vars='DlyCalDt',var_name='Ticker',value_name='HT_norm')\n",
    "df_HT_norm_long['DlyCalDt'] = pd.to_datetime(df_HT_norm_long['DlyCalDt'])"
   ]
  },
  {
   "cell_type": "code",
   "execution_count": 82,
   "metadata": {},
   "outputs": [],
   "source": [
    "df_overlap = pd.merge(df_overlap,df_HT_norm_long,left_on=['timelag','Ticker'],right_on = ['DlyCalDt','Ticker'],how='left')\n",
    "ls_overlap += ['HT_norm']\n",
    "df_overlap = df_overlap[ls_overlap]"
   ]
  },
  {
   "cell_type": "markdown",
   "metadata": {},
   "source": [
    "## SAR"
   ]
  },
  {
   "cell_type": "markdown",
   "metadata": {},
   "source": [
    "### factor generation"
   ]
  },
  {
   "cell_type": "code",
   "execution_count": 83,
   "metadata": {},
   "outputs": [],
   "source": [
    "df_SAR = pd.DataFrame()\n",
    "for i in df_close.columns:\n",
    "    df_SAR[i] = talib.SAR(df_high[i],df_low[i],acceleration=0.02,maximum=0.2)"
   ]
  },
  {
   "cell_type": "code",
   "execution_count": 84,
   "metadata": {},
   "outputs": [],
   "source": [
    "df_SAR_long = pd.melt(df_SAR.reset_index(),id_vars='DlyCalDt',var_name='Ticker',value_name='SAR')\n",
    "df_SAR_long['DlyCalDt'] = pd.to_datetime(df_SAR_long['DlyCalDt'])"
   ]
  },
  {
   "cell_type": "code",
   "execution_count": 85,
   "metadata": {},
   "outputs": [],
   "source": [
    "df_overlap = pd.merge(df_overlap,df_SAR_long,left_on=['timelag','Ticker'],right_on = ['DlyCalDt','Ticker'],how='left')\n",
    "ls_overlap += ['SAR']\n",
    "df_overlap = df_overlap[ls_overlap]"
   ]
  },
  {
   "cell_type": "markdown",
   "metadata": {},
   "source": [
    "### Normalized SAR indicator"
   ]
  },
  {
   "cell_type": "code",
   "execution_count": 86,
   "metadata": {},
   "outputs": [],
   "source": [
    "df_SAR_norm = df_SAR/df_close -1"
   ]
  },
  {
   "cell_type": "code",
   "execution_count": 87,
   "metadata": {},
   "outputs": [],
   "source": [
    "df_SAR_norm_long = pd.melt(df_SAR_norm.reset_index(),id_vars='DlyCalDt',var_name='Ticker',value_name='SAR_norm')\n",
    "df_SAR_norm_long['DlyCalDt'] = pd.to_datetime(df_SAR_norm_long['DlyCalDt'])"
   ]
  },
  {
   "cell_type": "code",
   "execution_count": 88,
   "metadata": {},
   "outputs": [],
   "source": [
    "df_overlap = pd.merge(df_overlap,df_SAR_norm_long,left_on=['timelag','Ticker'],right_on = ['DlyCalDt','Ticker'],how='left')\n",
    "ls_overlap += ['SAR_norm']\n",
    "df_overlap = df_overlap[ls_overlap]"
   ]
  },
  {
   "cell_type": "markdown",
   "metadata": {},
   "source": [
    "## factor reserve"
   ]
  },
  {
   "cell_type": "code",
   "execution_count": 89,
   "metadata": {},
   "outputs": [
    {
     "data": {
      "text/plain": [
       "date              0\n",
       "Ticker            0\n",
       "timelag           0\n",
       "BBANDS_upper      0\n",
       "BBANDS_middle     0\n",
       "BBANDS_lower      0\n",
       "BBANDS_up         0\n",
       "BBANDS_low        0\n",
       "BBANDS_squeeze    0\n",
       "HTITREND          0\n",
       "HT_norm           0\n",
       "SAR               0\n",
       "SAR_norm          0\n",
       "dtype: int64"
      ]
     },
     "execution_count": 89,
     "metadata": {},
     "output_type": "execute_result"
    }
   ],
   "source": [
    "df_overlap.isnull().sum()"
   ]
  },
  {
   "cell_type": "code",
   "execution_count": 90,
   "metadata": {},
   "outputs": [],
   "source": [
    "df_overlap.drop(\"timelag\",axis = 1).to_pickle(\"factor/Overlap.pkl.zip\",compression='zip')"
   ]
  },
  {
   "cell_type": "markdown",
   "metadata": {},
   "source": [
    "# Momentum"
   ]
  },
  {
   "cell_type": "code",
   "execution_count": 91,
   "metadata": {},
   "outputs": [],
   "source": [
    "df_momentum = pd.DataFrame()\n",
    "ls_momentum = ['date','Ticker','timelag']"
   ]
  },
  {
   "cell_type": "markdown",
   "metadata": {},
   "source": [
    "## DM"
   ]
  },
  {
   "cell_type": "code",
   "execution_count": 92,
   "metadata": {},
   "outputs": [],
   "source": [
    "df_pDM = pd.DataFrame()\n",
    "df_mDM = pd.DataFrame()\n",
    "for i in df_close.columns:\n",
    "    df_pDM[i] = talib.PLUS_DM(df_high[i],df_low[i],timeperiod=10)\n",
    "    df_mDM[i] = talib.MINUS_DM(df_high[i],df_low[i],timeperiod=10)"
   ]
  },
  {
   "cell_type": "code",
   "execution_count": 93,
   "metadata": {},
   "outputs": [],
   "source": [
    "df_pDM_long = pd.melt(df_pDM.reset_index(),id_vars='DlyCalDt',var_name='Ticker',value_name='pDM')\n",
    "df_mDM_long = pd.melt(df_mDM.reset_index(),id_vars='DlyCalDt',var_name='Ticker',value_name='mDM')"
   ]
  },
  {
   "cell_type": "code",
   "execution_count": 94,
   "metadata": {},
   "outputs": [],
   "source": [
    "df_pDM_long['DlyCalDt'] = pd.to_datetime(df_pDM_long['DlyCalDt'])\n",
    "df_mDM_long['DlyCalDt'] = pd.to_datetime(df_mDM_long['DlyCalDt'])"
   ]
  },
  {
   "cell_type": "code",
   "execution_count": 95,
   "metadata": {},
   "outputs": [],
   "source": [
    "df_momentum = pd.merge(df_return_long,df_pDM_long,left_on=['timelag','Ticker'],right_on = ['DlyCalDt','Ticker'],how='left')\n",
    "df_momentum = pd.merge(df_momentum,df_mDM_long,left_on=['timelag','Ticker'],right_on = ['DlyCalDt','Ticker'],how='left')\n",
    "ls_momentum += ['pDM','mDM']\n",
    "df_momentum = df_momentum[ls_momentum]"
   ]
  },
  {
   "cell_type": "markdown",
   "metadata": {},
   "source": [
    "## DI"
   ]
  },
  {
   "cell_type": "code",
   "execution_count": 96,
   "metadata": {},
   "outputs": [],
   "source": [
    "df_pDI = pd.DataFrame()\n",
    "df_mDI = pd.DataFrame()\n",
    "for i in df_close.columns:\n",
    "    df_pDI[i] = talib.PLUS_DI(df_high[i],df_low[i],df_close[i],timeperiod=14)\n",
    "    df_mDI[i] = talib.MINUS_DI(df_high[i],df_low[i],df_close[i],timeperiod=14)"
   ]
  },
  {
   "cell_type": "code",
   "execution_count": 97,
   "metadata": {},
   "outputs": [],
   "source": [
    "df_pDI_long = pd.melt(df_pDI.reset_index(),id_vars='DlyCalDt',var_name='Ticker',value_name='pDI')\n",
    "df_mDI_long = pd.melt(df_mDI.reset_index(),id_vars='DlyCalDt',var_name='Ticker',value_name='mDI')"
   ]
  },
  {
   "cell_type": "code",
   "execution_count": 98,
   "metadata": {},
   "outputs": [],
   "source": [
    "df_pDI_long['DlyCalDt'] = pd.to_datetime(df_pDI_long['DlyCalDt'])\n",
    "df_mDI_long['DlyCalDt'] = pd.to_datetime(df_mDI_long['DlyCalDt'])"
   ]
  },
  {
   "cell_type": "code",
   "execution_count": 99,
   "metadata": {},
   "outputs": [],
   "source": [
    "df_momentum = pd.merge(df_momentum,df_pDI_long,left_on=['timelag','Ticker'],right_on = ['DlyCalDt','Ticker'],how='left')\n",
    "df_momentum = pd.merge(df_momentum,df_mDI_long,left_on=['timelag','Ticker'],right_on = ['DlyCalDt','Ticker'],how='left')\n",
    "ls_momentum += ['pDI','mDI']\n",
    "df_momentum = df_momentum[ls_momentum]"
   ]
  },
  {
   "cell_type": "markdown",
   "metadata": {},
   "source": [
    "## ADX"
   ]
  },
  {
   "cell_type": "code",
   "execution_count": 100,
   "metadata": {},
   "outputs": [],
   "source": [
    "df_ADX = pd.DataFrame()\n",
    "df_ADXR = pd.DataFrame()\n",
    "for i in df_close.columns:\n",
    "    df_ADX[i] = talib.ADX(df_high[i],df_low[i],df_close[i],timeperiod=15)\n",
    "    df_ADXR[i] = talib.ADXR(df_high[i],df_low[i],df_close[i],timeperiod=15)"
   ]
  },
  {
   "cell_type": "code",
   "execution_count": 101,
   "metadata": {},
   "outputs": [],
   "source": [
    "df_ADX_long = pd.melt(df_ADX.reset_index(),id_vars='DlyCalDt',var_name='Ticker',value_name='ADX')\n",
    "df_ADXR_long = pd.melt(df_ADXR.reset_index(),id_vars='DlyCalDt',var_name='Ticker',value_name='ADXR')"
   ]
  },
  {
   "cell_type": "code",
   "execution_count": 102,
   "metadata": {},
   "outputs": [],
   "source": [
    "df_ADX_long['DlyCalDt'] = pd.to_datetime(df_ADX_long['DlyCalDt'])\n",
    "df_ADXR_long['DlyCalDt'] = pd.to_datetime(df_ADXR_long['DlyCalDt'])"
   ]
  },
  {
   "cell_type": "code",
   "execution_count": 103,
   "metadata": {},
   "outputs": [],
   "source": [
    "df_momentum = pd.merge(df_momentum,df_ADX_long,left_on=['timelag','Ticker'],right_on = ['DlyCalDt','Ticker'],how='left')\n",
    "df_momentum = pd.merge(df_momentum,df_ADXR_long,left_on=['timelag','Ticker'],right_on = ['DlyCalDt','Ticker'],how='left')\n",
    "ls_momentum += ['ADX','ADXR']\n",
    "df_momentum = df_momentum[ls_momentum]"
   ]
  },
  {
   "cell_type": "markdown",
   "metadata": {},
   "source": [
    "## APO/PPO"
   ]
  },
  {
   "cell_type": "code",
   "execution_count": 104,
   "metadata": {},
   "outputs": [],
   "source": [
    "df_APO = pd.DataFrame()\n",
    "df_PPO = pd.DataFrame()\n",
    "for i in df_close.columns:\n",
    "    df_APO[i] = talib.APO(df_close[i],fastperiod=12,slowperiod=26,matype=0)\n",
    "    df_PPO[i] = talib.PPO(df_close[i],fastperiod=12,slowperiod=26,matype=0)"
   ]
  },
  {
   "cell_type": "code",
   "execution_count": 105,
   "metadata": {},
   "outputs": [],
   "source": [
    "df_APO_long = pd.melt(df_APO.reset_index(),id_vars='DlyCalDt',var_name='Ticker',value_name='APO')\n",
    "df_PPO_long = pd.melt(df_PPO.reset_index(),id_vars='DlyCalDt',var_name='Ticker',value_name='PPO')"
   ]
  },
  {
   "cell_type": "code",
   "execution_count": 106,
   "metadata": {},
   "outputs": [],
   "source": [
    "df_APO_long['DlyCalDt'] = pd.to_datetime(df_APO_long['DlyCalDt'])\n",
    "df_PPO_long['DlyCalDt'] = pd.to_datetime(df_PPO_long['DlyCalDt'])"
   ]
  },
  {
   "cell_type": "code",
   "execution_count": 107,
   "metadata": {},
   "outputs": [],
   "source": [
    "df_momentum = pd.merge(df_momentum,df_APO_long,left_on=['timelag','Ticker'],right_on = ['DlyCalDt','Ticker'],how='left')\n",
    "df_momentum = pd.merge(df_momentum,df_PPO_long,left_on=['timelag','Ticker'],right_on = ['DlyCalDt','Ticker'],how='left')\n",
    "ls_momentum += ['APO','PPO']\n",
    "df_momentum = df_momentum[ls_momentum]"
   ]
  },
  {
   "cell_type": "markdown",
   "metadata": {},
   "source": [
    "## AROON"
   ]
  },
  {
   "cell_type": "code",
   "execution_count": 108,
   "metadata": {},
   "outputs": [],
   "source": [
    "df_AROON_up = pd.DataFrame()\n",
    "df_AROON_down = pd.DataFrame()\n",
    "df_AROONOSC = pd.DataFrame()\n",
    "for i in df_close.columns:\n",
    "    df_AROON_up[i],df_AROON_down[i] = talib.AROON(df_high[i],df_low[i],timeperiod=15)\n",
    "    df_AROONOSC[i] = talib.AROONOSC(df_high[i],df_low[i],timeperiod=15)"
   ]
  },
  {
   "cell_type": "code",
   "execution_count": 109,
   "metadata": {},
   "outputs": [],
   "source": [
    "df_AROON_up_long = pd.melt(df_AROON_up.reset_index(),id_vars='DlyCalDt',var_name='Ticker',value_name='AROON_up')\n",
    "df_AROON_down_long = pd.melt(df_AROON_down.reset_index(),id_vars='DlyCalDt',var_name='Ticker',value_name='AROON_down')\n",
    "df_AROONOSC_long = pd.melt(df_AROONOSC.reset_index(),id_vars='DlyCalDt',var_name='Ticker',value_name='AROONOSC')"
   ]
  },
  {
   "cell_type": "code",
   "execution_count": 110,
   "metadata": {},
   "outputs": [],
   "source": [
    "df_AROON_up_long['DlyCalDt'] = pd.to_datetime(df_AROON_up_long['DlyCalDt'])\n",
    "df_AROON_down_long['DlyCalDt'] = pd.to_datetime(df_AROON_down_long['DlyCalDt'])\n",
    "df_AROONOSC_long['DlyCalDt'] = pd.to_datetime(df_AROONOSC_long['DlyCalDt'])"
   ]
  },
  {
   "cell_type": "code",
   "execution_count": 111,
   "metadata": {},
   "outputs": [],
   "source": [
    "df_momentum = pd.merge(df_momentum,df_AROON_up_long,left_on=['timelag','Ticker'],right_on = ['DlyCalDt','Ticker'],how='left')\n",
    "df_momentum = pd.merge(df_momentum,df_AROON_down_long,left_on=['timelag','Ticker'],right_on = ['DlyCalDt','Ticker'],how='left')\n",
    "df_momentum = pd.merge(df_momentum,df_AROONOSC_long,left_on=['timelag','Ticker'],right_on = ['DlyCalDt','Ticker'],how='left')\n",
    "ls_momentum += ['AROON_up','AROON_down','AROONOSC']\n",
    "df_momentum = df_momentum[ls_momentum]"
   ]
  },
  {
   "cell_type": "markdown",
   "metadata": {},
   "source": [
    "## BOP/CCI"
   ]
  },
  {
   "cell_type": "code",
   "execution_count": 112,
   "metadata": {},
   "outputs": [],
   "source": [
    "df_BOP = pd.DataFrame()\n",
    "df_CCI = pd.DataFrame()\n",
    "for i in df_close.columns:\n",
    "    df_BOP[i] = talib.BOP(df_open[i],df_high[i],df_low[i],df_close[i])\n",
    "    df_CCI[i] = talib.CCI(df_high[i],df_low[i],df_close[i],timeperiod=15)"
   ]
  },
  {
   "cell_type": "code",
   "execution_count": 113,
   "metadata": {},
   "outputs": [],
   "source": [
    "df_BOP_long = pd.melt(df_BOP.reset_index(),id_vars='DlyCalDt',var_name='Ticker',value_name='BOP')\n",
    "df_CCI_long = pd.melt(df_CCI.reset_index(),id_vars='DlyCalDt',var_name='Ticker',value_name='CCI')"
   ]
  },
  {
   "cell_type": "code",
   "execution_count": 114,
   "metadata": {},
   "outputs": [],
   "source": [
    "df_BOP_long['DlyCalDt'] = pd.to_datetime(df_BOP_long['DlyCalDt'])\n",
    "df_CCI_long['DlyCalDt'] = pd.to_datetime(df_CCI_long['DlyCalDt'])"
   ]
  },
  {
   "cell_type": "code",
   "execution_count": 115,
   "metadata": {},
   "outputs": [],
   "source": [
    "df_momentum = pd.merge(df_momentum,df_BOP_long,left_on=['timelag','Ticker'],right_on = ['DlyCalDt','Ticker'],how='left')\n",
    "df_momentum = pd.merge(df_momentum,df_CCI_long,left_on=['timelag','Ticker'],right_on = ['DlyCalDt','Ticker'],how='left')\n",
    "ls_momentum += ['BOP','CCI']\n",
    "df_momentum = df_momentum[ls_momentum]"
   ]
  },
  {
   "cell_type": "markdown",
   "metadata": {},
   "source": [
    "## MACD"
   ]
  },
  {
   "cell_type": "code",
   "execution_count": 116,
   "metadata": {},
   "outputs": [],
   "source": [
    "df_MACD = pd.DataFrame()\n",
    "df_MACD_signal = pd.DataFrame()\n",
    "df_MACD_hist = pd.DataFrame()\n",
    "for i in df_close.columns:\n",
    "    df_MACD[i],df_MACD_signal[i],df_MACD_hist[i] = talib.MACD(df_close[i],fastperiod=12,slowperiod=26,signalperiod=9)"
   ]
  },
  {
   "cell_type": "code",
   "execution_count": 117,
   "metadata": {},
   "outputs": [],
   "source": [
    "df_MACD_long = pd.melt(df_MACD.reset_index(),id_vars='DlyCalDt',var_name='Ticker',value_name='MACD')\n",
    "df_MACD_signal_long = pd.melt(df_MACD_signal.reset_index(),id_vars='DlyCalDt',var_name='Ticker',value_name='MACD_signal')\n",
    "df_MACD_hist_long = pd.melt(df_MACD_hist.reset_index(),id_vars='DlyCalDt',var_name='Ticker',value_name='MACD_hist')"
   ]
  },
  {
   "cell_type": "code",
   "execution_count": 118,
   "metadata": {},
   "outputs": [],
   "source": [
    "df_MACD_long['DlyCalDt'] = pd.to_datetime(df_MACD_long['DlyCalDt'])\n",
    "df_MACD_signal_long['DlyCalDt'] = pd.to_datetime(df_MACD_signal_long['DlyCalDt'])\n",
    "df_MACD_hist_long['DlyCalDt'] = pd.to_datetime(df_MACD_hist_long['DlyCalDt'])"
   ]
  },
  {
   "cell_type": "code",
   "execution_count": 119,
   "metadata": {},
   "outputs": [],
   "source": [
    "df_momentum = pd.merge(df_momentum,df_MACD_long,left_on=['timelag','Ticker'],right_on = ['DlyCalDt','Ticker'],how='left')\n",
    "df_momentum = pd.merge(df_momentum,df_MACD_signal_long,left_on=['timelag','Ticker'],right_on = ['DlyCalDt','Ticker'],how='left')\n",
    "df_momentum = pd.merge(df_momentum,df_MACD_hist_long,left_on=['timelag','Ticker'],right_on = ['DlyCalDt','Ticker'],how='left')\n",
    "ls_momentum += ['MACD','MACD_signal','MACD_hist']\n",
    "df_momentum = df_momentum[ls_momentum]"
   ]
  },
  {
   "cell_type": "markdown",
   "metadata": {},
   "source": [
    "## CMO/MFI"
   ]
  },
  {
   "cell_type": "code",
   "execution_count": 120,
   "metadata": {},
   "outputs": [],
   "source": [
    "df_CMO = pd.DataFrame()\n",
    "df_MFI = pd.DataFrame()\n",
    "for i in df_close.columns:\n",
    "    df_CMO[i] = talib.CMO(df_close[i],timeperiod=14)\n",
    "    df_MFI[i] = talib.MFI(df_high[i],df_low[i],df_close[i],df_volume[i],timeperiod=14)"
   ]
  },
  {
   "cell_type": "code",
   "execution_count": 121,
   "metadata": {},
   "outputs": [],
   "source": [
    "df_CMO_long = pd.melt(df_CMO.reset_index(),id_vars='DlyCalDt',var_name='Ticker',value_name='CMO')\n",
    "df_MFI_long = pd.melt(df_MFI.reset_index(),id_vars='DlyCalDt',var_name='Ticker',value_name='MFI')"
   ]
  },
  {
   "cell_type": "code",
   "execution_count": 122,
   "metadata": {},
   "outputs": [],
   "source": [
    "df_CMO_long['DlyCalDt'] = pd.to_datetime(df_CMO_long['DlyCalDt'])\n",
    "df_MFI_long['DlyCalDt'] = pd.to_datetime(df_MFI_long['DlyCalDt'])"
   ]
  },
  {
   "cell_type": "code",
   "execution_count": 123,
   "metadata": {},
   "outputs": [],
   "source": [
    "df_momentum = pd.merge(df_momentum,df_CMO_long,left_on=['timelag','Ticker'],right_on = ['DlyCalDt','Ticker'],how='left')\n",
    "df_momentum = pd.merge(df_momentum,df_MFI_long,left_on=['timelag','Ticker'],right_on = ['DlyCalDt','Ticker'],how='left')\n",
    "ls_momentum += ['CMO','MFI']\n",
    "df_momentum = df_momentum[ls_momentum]"
   ]
  },
  {
   "cell_type": "markdown",
   "metadata": {},
   "source": [
    "## RSI"
   ]
  },
  {
   "cell_type": "code",
   "execution_count": 124,
   "metadata": {},
   "outputs": [],
   "source": [
    "df_RSI = pd.DataFrame()\n",
    "df_RSI_stoch_fast = pd.DataFrame()\n",
    "df_RSI_stoch_slow = pd.DataFrame()\n",
    "for i in df_close.columns:\n",
    "    df_RSI[i] = talib.RSI(df_close[i],timeperiod=14)\n",
    "    df_RSI_stoch_fast[i],df_RSI_stoch_slow[i] = talib.STOCHRSI(df_close[i],timeperiod=14,fastk_period=5,fastd_period=3,fastd_matype=0)"
   ]
  },
  {
   "cell_type": "code",
   "execution_count": 125,
   "metadata": {},
   "outputs": [],
   "source": [
    "df_RSI_long = pd.melt(df_RSI.reset_index(),id_vars='DlyCalDt',var_name='Ticker',value_name='RSI')\n",
    "df_RSI_stoch_fast_long = pd.melt(df_RSI_stoch_fast.reset_index(),id_vars='DlyCalDt',var_name='Ticker',value_name='RSI_stoch_fast')\n",
    "df_RSI_stoch_slow_long = pd.melt(df_RSI_stoch_slow.reset_index(),id_vars='DlyCalDt',var_name='Ticker',value_name='RSI_stoch_slow')"
   ]
  },
  {
   "cell_type": "code",
   "execution_count": 126,
   "metadata": {},
   "outputs": [],
   "source": [
    "df_RSI_long['DlyCalDt'] = pd.to_datetime(df_RSI_long['DlyCalDt'])\n",
    "df_RSI_stoch_fast_long['DlyCalDt'] = pd.to_datetime(df_RSI_stoch_fast_long['DlyCalDt'])\n",
    "df_RSI_stoch_slow_long['DlyCalDt'] = pd.to_datetime(df_RSI_stoch_slow_long['DlyCalDt'])"
   ]
  },
  {
   "cell_type": "code",
   "execution_count": 127,
   "metadata": {},
   "outputs": [],
   "source": [
    "df_momentum = pd.merge(df_momentum,df_RSI_long,left_on=['timelag','Ticker'],right_on = ['DlyCalDt','Ticker'],how='left')\n",
    "df_momentum = pd.merge(df_momentum,df_RSI_stoch_fast_long,left_on=['timelag','Ticker'],right_on = ['DlyCalDt','Ticker'],how='left')\n",
    "df_momentum = pd.merge(df_momentum,df_RSI_stoch_slow_long,left_on=['timelag','Ticker'],right_on = ['DlyCalDt','Ticker'],how='left')\n",
    "ls_momentum += ['RSI','RSI_stoch_fast','RSI_stoch_slow']\n",
    "df_momentum = df_momentum[ls_momentum]"
   ]
  },
  {
   "cell_type": "markdown",
   "metadata": {},
   "source": [
    "## STOCH/ULTOSC/WILLR"
   ]
  },
  {
   "cell_type": "code",
   "execution_count": 128,
   "metadata": {},
   "outputs": [],
   "source": [
    "df_STOCH = pd.DataFrame()\n",
    "df_UTLOSC = pd.DataFrame()\n",
    "df_WILLR = pd.DataFrame()\n",
    "for i in df_close.columns:\n",
    "    df1,df2 = talib.STOCH(df_high[i],df_low[i],df_close[i],fastk_period=5,slowk_period=3,slowk_matype=0,slowd_period=3,slowd_matype=0)\n",
    "    df_STOCH[i] = df1/df2\n",
    "    df_UTLOSC[i] = talib.ULTOSC(df_high[i],df_low[i],df_close[i],timeperiod1=7,timeperiod2=14,timeperiod3=28)\n",
    "    df_WILLR[i] = talib.WILLR(df_high[i],df_low[i],df_close[i],timeperiod=14)"
   ]
  },
  {
   "cell_type": "code",
   "execution_count": 129,
   "metadata": {},
   "outputs": [],
   "source": [
    "df_STOCH_long = pd.melt(df_STOCH.reset_index(),id_vars='DlyCalDt',var_name='Ticker',value_name='STOCH')\n",
    "df_UTLOSC_long = pd.melt(df_UTLOSC.reset_index(),id_vars='DlyCalDt',var_name='Ticker',value_name='UTLOSC')\n",
    "df_WILLR_long = pd.melt(df_WILLR.reset_index(),id_vars='DlyCalDt',var_name='Ticker',value_name='WILLR')"
   ]
  },
  {
   "cell_type": "code",
   "execution_count": 130,
   "metadata": {},
   "outputs": [],
   "source": [
    "df_STOCH_long['DlyCalDt'] = pd.to_datetime(df_STOCH_long['DlyCalDt'])\n",
    "df_UTLOSC_long['DlyCalDt'] = pd.to_datetime(df_UTLOSC_long['DlyCalDt'])\n",
    "df_WILLR_long['DlyCalDt'] = pd.to_datetime(df_WILLR_long['DlyCalDt'])"
   ]
  },
  {
   "cell_type": "code",
   "execution_count": 131,
   "metadata": {},
   "outputs": [],
   "source": [
    "df_momentum = pd.merge(df_momentum,df_STOCH_long,left_on=['timelag','Ticker'],right_on = ['DlyCalDt','Ticker'],how='left')\n",
    "df_momentum = pd.merge(df_momentum,df_UTLOSC_long,left_on=['timelag','Ticker'],right_on = ['DlyCalDt','Ticker'],how='left')\n",
    "df_momentum = pd.merge(df_momentum,df_WILLR_long,left_on=['timelag','Ticker'],right_on = ['DlyCalDt','Ticker'],how='left')\n",
    "ls_momentum += ['STOCH','UTLOSC','WILLR']\n",
    "df_momentum = df_momentum[ls_momentum]"
   ]
  },
  {
   "cell_type": "markdown",
   "metadata": {},
   "source": [
    "## factor reserve"
   ]
  },
  {
   "cell_type": "code",
   "execution_count": 132,
   "metadata": {},
   "outputs": [
    {
     "data": {
      "text/plain": [
       "date              0\n",
       "Ticker            0\n",
       "timelag           0\n",
       "pDM               0\n",
       "mDM               0\n",
       "pDI               0\n",
       "mDI               0\n",
       "ADX               0\n",
       "ADXR              0\n",
       "APO               0\n",
       "PPO               0\n",
       "AROON_up          0\n",
       "AROON_down        0\n",
       "AROONOSC          0\n",
       "BOP               0\n",
       "CCI               0\n",
       "MACD              0\n",
       "MACD_signal       0\n",
       "MACD_hist         0\n",
       "CMO               0\n",
       "MFI               0\n",
       "RSI               0\n",
       "RSI_stoch_fast    0\n",
       "RSI_stoch_slow    0\n",
       "STOCH             3\n",
       "UTLOSC            0\n",
       "WILLR             0\n",
       "dtype: int64"
      ]
     },
     "execution_count": 132,
     "metadata": {},
     "output_type": "execute_result"
    }
   ],
   "source": [
    "df_momentum.isnull().sum()"
   ]
  },
  {
   "cell_type": "code",
   "execution_count": 134,
   "metadata": {},
   "outputs": [
    {
     "data": {
      "text/html": [
       "<div>\n",
       "<style scoped>\n",
       "    .dataframe tbody tr th:only-of-type {\n",
       "        vertical-align: middle;\n",
       "    }\n",
       "\n",
       "    .dataframe tbody tr th {\n",
       "        vertical-align: top;\n",
       "    }\n",
       "\n",
       "    .dataframe thead th {\n",
       "        text-align: right;\n",
       "    }\n",
       "</style>\n",
       "<table border=\"1\" class=\"dataframe\">\n",
       "  <thead>\n",
       "    <tr style=\"text-align: right;\">\n",
       "      <th></th>\n",
       "      <th>date</th>\n",
       "      <th>Ticker</th>\n",
       "      <th>timelag</th>\n",
       "      <th>pDM</th>\n",
       "      <th>mDM</th>\n",
       "      <th>pDI</th>\n",
       "      <th>mDI</th>\n",
       "      <th>ADX</th>\n",
       "      <th>ADXR</th>\n",
       "      <th>APO</th>\n",
       "      <th>...</th>\n",
       "      <th>MACD_signal</th>\n",
       "      <th>MACD_hist</th>\n",
       "      <th>CMO</th>\n",
       "      <th>MFI</th>\n",
       "      <th>RSI</th>\n",
       "      <th>RSI_stoch_fast</th>\n",
       "      <th>RSI_stoch_slow</th>\n",
       "      <th>STOCH</th>\n",
       "      <th>UTLOSC</th>\n",
       "      <th>WILLR</th>\n",
       "    </tr>\n",
       "  </thead>\n",
       "  <tbody>\n",
       "    <tr>\n",
       "      <th>132826</th>\n",
       "      <td>2019-02-12</td>\n",
       "      <td>CTRM</td>\n",
       "      <td>2019-02-11</td>\n",
       "      <td>0.0</td>\n",
       "      <td>0.0</td>\n",
       "      <td>0.0</td>\n",
       "      <td>0.0</td>\n",
       "      <td>0.0</td>\n",
       "      <td>0.0</td>\n",
       "      <td>8.881784e-16</td>\n",
       "      <td>...</td>\n",
       "      <td>8.881784e-16</td>\n",
       "      <td>0.0</td>\n",
       "      <td>0.0</td>\n",
       "      <td>0.0</td>\n",
       "      <td>0.0</td>\n",
       "      <td>0.0</td>\n",
       "      <td>0.0</td>\n",
       "      <td>NaN</td>\n",
       "      <td>0.0</td>\n",
       "      <td>-100.0</td>\n",
       "    </tr>\n",
       "    <tr>\n",
       "      <th>234388</th>\n",
       "      <td>2020-06-01</td>\n",
       "      <td>HYMC</td>\n",
       "      <td>2020-05-29</td>\n",
       "      <td>0.0</td>\n",
       "      <td>0.0</td>\n",
       "      <td>0.0</td>\n",
       "      <td>0.0</td>\n",
       "      <td>0.0</td>\n",
       "      <td>0.0</td>\n",
       "      <td>0.000000e+00</td>\n",
       "      <td>...</td>\n",
       "      <td>0.000000e+00</td>\n",
       "      <td>0.0</td>\n",
       "      <td>0.0</td>\n",
       "      <td>0.0</td>\n",
       "      <td>0.0</td>\n",
       "      <td>0.0</td>\n",
       "      <td>0.0</td>\n",
       "      <td>NaN</td>\n",
       "      <td>0.0</td>\n",
       "      <td>-100.0</td>\n",
       "    </tr>\n",
       "    <tr>\n",
       "      <th>234389</th>\n",
       "      <td>2020-06-02</td>\n",
       "      <td>HYMC</td>\n",
       "      <td>2020-06-01</td>\n",
       "      <td>0.0</td>\n",
       "      <td>0.0</td>\n",
       "      <td>0.0</td>\n",
       "      <td>0.0</td>\n",
       "      <td>0.0</td>\n",
       "      <td>0.0</td>\n",
       "      <td>0.000000e+00</td>\n",
       "      <td>...</td>\n",
       "      <td>0.000000e+00</td>\n",
       "      <td>0.0</td>\n",
       "      <td>0.0</td>\n",
       "      <td>0.0</td>\n",
       "      <td>0.0</td>\n",
       "      <td>0.0</td>\n",
       "      <td>0.0</td>\n",
       "      <td>NaN</td>\n",
       "      <td>0.0</td>\n",
       "      <td>-100.0</td>\n",
       "    </tr>\n",
       "  </tbody>\n",
       "</table>\n",
       "<p>3 rows × 27 columns</p>\n",
       "</div>"
      ],
      "text/plain": [
       "              date Ticker    timelag  pDM  mDM  pDI  mDI  ADX  ADXR  \\\n",
       "132826  2019-02-12   CTRM 2019-02-11  0.0  0.0  0.0  0.0  0.0   0.0   \n",
       "234388  2020-06-01   HYMC 2020-05-29  0.0  0.0  0.0  0.0  0.0   0.0   \n",
       "234389  2020-06-02   HYMC 2020-06-01  0.0  0.0  0.0  0.0  0.0   0.0   \n",
       "\n",
       "                 APO  ...   MACD_signal  MACD_hist  CMO  MFI  RSI  \\\n",
       "132826  8.881784e-16  ...  8.881784e-16        0.0  0.0  0.0  0.0   \n",
       "234388  0.000000e+00  ...  0.000000e+00        0.0  0.0  0.0  0.0   \n",
       "234389  0.000000e+00  ...  0.000000e+00        0.0  0.0  0.0  0.0   \n",
       "\n",
       "        RSI_stoch_fast  RSI_stoch_slow  STOCH  UTLOSC  WILLR  \n",
       "132826             0.0             0.0    NaN     0.0 -100.0  \n",
       "234388             0.0             0.0    NaN     0.0 -100.0  \n",
       "234389             0.0             0.0    NaN     0.0 -100.0  \n",
       "\n",
       "[3 rows x 27 columns]"
      ]
     },
     "execution_count": 134,
     "metadata": {},
     "output_type": "execute_result"
    }
   ],
   "source": [
    "df_momentum.query(\"STOCH.isnull()\")"
   ]
  },
  {
   "cell_type": "code",
   "execution_count": 135,
   "metadata": {},
   "outputs": [],
   "source": [
    "df_momentum.fillna(method='ffill',inplace=True)"
   ]
  },
  {
   "cell_type": "code",
   "execution_count": 136,
   "metadata": {},
   "outputs": [
    {
     "data": {
      "text/plain": [
       "date              0\n",
       "Ticker            0\n",
       "timelag           0\n",
       "pDM               0\n",
       "mDM               0\n",
       "pDI               0\n",
       "mDI               0\n",
       "ADX               0\n",
       "ADXR              0\n",
       "APO               0\n",
       "PPO               0\n",
       "AROON_up          0\n",
       "AROON_down        0\n",
       "AROONOSC          0\n",
       "BOP               0\n",
       "CCI               0\n",
       "MACD              0\n",
       "MACD_signal       0\n",
       "MACD_hist         0\n",
       "CMO               0\n",
       "MFI               0\n",
       "RSI               0\n",
       "RSI_stoch_fast    0\n",
       "RSI_stoch_slow    0\n",
       "STOCH             0\n",
       "UTLOSC            0\n",
       "WILLR             0\n",
       "dtype: int64"
      ]
     },
     "execution_count": 136,
     "metadata": {},
     "output_type": "execute_result"
    }
   ],
   "source": [
    "df_momentum.isnull().sum()"
   ]
  },
  {
   "cell_type": "code",
   "execution_count": 138,
   "metadata": {},
   "outputs": [],
   "source": [
    "df_momentum.drop(\"timelag\",axis = 1).to_pickle(\"factor/Momentum.pkl.zip\",compression='zip')"
   ]
  },
  {
   "cell_type": "markdown",
   "metadata": {},
   "source": [
    "# Volume"
   ]
  },
  {
   "cell_type": "code",
   "execution_count": 139,
   "metadata": {},
   "outputs": [],
   "source": [
    "df_volume_factor = pd.DataFrame()\n",
    "ls_volume = ['date','Ticker','timelag']"
   ]
  },
  {
   "cell_type": "markdown",
   "metadata": {},
   "source": [
    "## Chaikin A/D"
   ]
  },
  {
   "cell_type": "code",
   "execution_count": 140,
   "metadata": {},
   "outputs": [],
   "source": [
    "df_AD = pd.DataFrame()\n",
    "df_ADOSC = pd.DataFrame()\n",
    "for i in df_close.columns:\n",
    "    df_AD[i] = talib.AD(df_high[i],df_low[i],df_close[i],df_volume[i])\n",
    "    df_ADOSC[i] = talib.ADOSC(df_high[i],df_low[i],df_close[i],df_volume[i],fastperiod=3,slowperiod=10)"
   ]
  },
  {
   "cell_type": "code",
   "execution_count": 141,
   "metadata": {},
   "outputs": [],
   "source": [
    "df_AD_long = pd.melt(df_AD.reset_index(),id_vars='DlyCalDt',var_name='Ticker',value_name='AD')\n",
    "df_ADOSC_long = pd.melt(df_ADOSC.reset_index(),id_vars='DlyCalDt',var_name='Ticker',value_name='ADOSC')"
   ]
  },
  {
   "cell_type": "code",
   "execution_count": 142,
   "metadata": {},
   "outputs": [],
   "source": [
    "df_AD_long['DlyCalDt'] = pd.to_datetime(df_AD_long['DlyCalDt'])\n",
    "df_ADOSC_long['DlyCalDt'] = pd.to_datetime(df_ADOSC_long['DlyCalDt'])"
   ]
  },
  {
   "cell_type": "code",
   "execution_count": 143,
   "metadata": {},
   "outputs": [],
   "source": [
    "df_volume_factor = pd.merge(df_return_long,df_AD_long,left_on=['timelag','Ticker'],right_on = ['DlyCalDt','Ticker'],how='left')\n",
    "df_volume_factor = pd.merge(df_volume_factor,df_ADOSC_long,left_on=['timelag','Ticker'],right_on = ['DlyCalDt','Ticker'],how='left')\n",
    "ls_volume += ['AD','ADOSC']\n",
    "df_volume_factor = df_volume_factor[ls_volume]"
   ]
  },
  {
   "cell_type": "markdown",
   "metadata": {},
   "source": [
    "## OBV"
   ]
  },
  {
   "cell_type": "code",
   "execution_count": 144,
   "metadata": {},
   "outputs": [],
   "source": [
    "df_OBV = pd.DataFrame()\n",
    "for i in df_close.columns:\n",
    "    df_OBV[i] = talib.OBV(df_close[i],df_volume[i])"
   ]
  },
  {
   "cell_type": "code",
   "execution_count": 145,
   "metadata": {},
   "outputs": [],
   "source": [
    "df_OBV_long = pd.melt(df_OBV.reset_index(),id_vars='DlyCalDt',var_name='Ticker',value_name='OBV')\n",
    "df_OBV_long['DlyCalDt'] = pd.to_datetime(df_OBV_long['DlyCalDt'])"
   ]
  },
  {
   "cell_type": "code",
   "execution_count": 146,
   "metadata": {},
   "outputs": [],
   "source": [
    "df_volume_factor = pd.merge(df_volume_factor,df_OBV_long,left_on=['timelag','Ticker'],right_on = ['DlyCalDt','Ticker'],how='left')\n",
    "ls_volume += ['OBV']\n",
    "df_volume_factor = df_volume_factor[ls_volume]"
   ]
  },
  {
   "cell_type": "markdown",
   "metadata": {},
   "source": [
    "## VPT"
   ]
  },
  {
   "cell_type": "code",
   "execution_count": 147,
   "metadata": {},
   "outputs": [],
   "source": [
    "def VPT(close, volume):\n",
    "    vpt = volume * close.pct_change(1).cumsum()\n",
    "    return vpt\n",
    "# cite : https://medium.com/@crisvelasquez/top-9-volume-indicators-in-python-e398791b98f9\n",
    "# https://mp.weixin.qq.com/s/FEX1Ow2gnywieUn86tIWqQ"
   ]
  },
  {
   "cell_type": "code",
   "execution_count": 148,
   "metadata": {},
   "outputs": [],
   "source": [
    "df_VPT = pd.DataFrame()\n",
    "for i in df_close.columns:\n",
    "    df_VPT[i] = VPT(df_close[i],df_volume[i])"
   ]
  },
  {
   "cell_type": "code",
   "execution_count": 149,
   "metadata": {},
   "outputs": [],
   "source": [
    "df_VPT_long = pd.melt(df_VPT.reset_index(),id_vars='DlyCalDt',var_name='Ticker',value_name='VPT')\n",
    "df_VPT_long['DlyCalDt'] = pd.to_datetime(df_VPT_long['DlyCalDt'])"
   ]
  },
  {
   "cell_type": "code",
   "execution_count": 150,
   "metadata": {},
   "outputs": [],
   "source": [
    "df_volume_factor = pd.merge(df_volume_factor,df_VPT_long,left_on=['timelag','Ticker'],right_on = ['DlyCalDt','Ticker'],how='left')\n",
    "ls_volume += ['VPT']\n",
    "df_volume_factor = df_volume_factor[ls_volume]"
   ]
  },
  {
   "cell_type": "markdown",
   "metadata": {},
   "source": [
    "## VWAP"
   ]
  },
  {
   "cell_type": "code",
   "execution_count": 151,
   "metadata": {},
   "outputs": [],
   "source": [
    "def VWAP(high,low,close,volume):\n",
    "    vwap = (volume * (high + low + close) / 3).cumsum() / volume.cumsum()\n",
    "    return vwap\n",
    "# cite : https://medium.com/@financial_python/building-a-vwap-indicator-in-python-81ff9157fb13"
   ]
  },
  {
   "cell_type": "code",
   "execution_count": 152,
   "metadata": {},
   "outputs": [],
   "source": [
    "df_VWAP = pd.DataFrame()\n",
    "for i in df_close.columns:\n",
    "    df_VWAP[i] = VWAP(df_high[i],df_low[i],df_close[i],df_volume[i])"
   ]
  },
  {
   "cell_type": "code",
   "execution_count": 153,
   "metadata": {},
   "outputs": [],
   "source": [
    "df_VWAP_long = pd.melt(df_VWAP.reset_index(),id_vars='DlyCalDt',var_name='Ticker',value_name='VWAP')\n",
    "df_VWAP_long['DlyCalDt'] = pd.to_datetime(df_VWAP_long['DlyCalDt'])"
   ]
  },
  {
   "cell_type": "code",
   "execution_count": 154,
   "metadata": {},
   "outputs": [],
   "source": [
    "df_volume_factor = pd.merge(df_volume_factor,df_VWAP_long,left_on=['timelag','Ticker'],right_on = ['DlyCalDt','Ticker'],how='left')\n",
    "ls_volume += ['VWAP']\n",
    "df_volume_factor = df_volume_factor[ls_volume]"
   ]
  },
  {
   "cell_type": "markdown",
   "metadata": {},
   "source": [
    "## factor reseve"
   ]
  },
  {
   "cell_type": "code",
   "execution_count": 155,
   "metadata": {},
   "outputs": [
    {
     "data": {
      "text/plain": [
       "date       0\n",
       "Ticker     0\n",
       "timelag    0\n",
       "AD         0\n",
       "ADOSC      0\n",
       "OBV        0\n",
       "VPT        0\n",
       "VWAP       0\n",
       "dtype: int64"
      ]
     },
     "execution_count": 155,
     "metadata": {},
     "output_type": "execute_result"
    }
   ],
   "source": [
    "df_volume_factor.isnull().sum()"
   ]
  },
  {
   "cell_type": "code",
   "execution_count": 157,
   "metadata": {},
   "outputs": [],
   "source": [
    "df_volume_factor.drop(\"timelag\",axis = 1).to_pickle(\"factor/Volume.pkl.zip\",compression='zip')"
   ]
  },
  {
   "cell_type": "markdown",
   "metadata": {},
   "source": [
    "# Volatility"
   ]
  },
  {
   "cell_type": "code",
   "execution_count": 162,
   "metadata": {},
   "outputs": [],
   "source": [
    "df_volatility_factor = pd.DataFrame()\n",
    "ls_volatility = ['date','Ticker','timelag']"
   ]
  },
  {
   "cell_type": "markdown",
   "metadata": {},
   "source": [
    "## ATR"
   ]
  },
  {
   "cell_type": "markdown",
   "metadata": {},
   "source": [
    "### factor generation"
   ]
  },
  {
   "cell_type": "code",
   "execution_count": 163,
   "metadata": {},
   "outputs": [],
   "source": [
    "df_ATR = pd.DataFrame()\n",
    "for i in df_close.columns:\n",
    "    df_ATR[i] = talib.ATR(df_high[i],\n",
    "                      df_low[i],\n",
    "                      df_close[i],\n",
    "                      timeperiod=15)"
   ]
  },
  {
   "cell_type": "code",
   "execution_count": 164,
   "metadata": {},
   "outputs": [],
   "source": [
    "df_ATR_long = pd.melt(df_ATR.reset_index(),id_vars='DlyCalDt',var_name='Ticker',value_name='ATR')\n",
    "df_ATR_long['DlyCalDt'] = pd.to_datetime(df_ATR_long['DlyCalDt'])"
   ]
  },
  {
   "cell_type": "code",
   "execution_count": 165,
   "metadata": {},
   "outputs": [],
   "source": [
    "df_volatility = pd.merge(df_return_long,df_ATR_long,left_on=['timelag','Ticker'],right_on = ['DlyCalDt','Ticker'],how='left')\n",
    "ls_volatility += ['ATR']\n",
    "df_volatility = df_volatility[ls_volatility]"
   ]
  },
  {
   "cell_type": "markdown",
   "metadata": {},
   "source": [
    "### normalized version of ATR using rolling mean of price"
   ]
  },
  {
   "cell_type": "code",
   "execution_count": 166,
   "metadata": {},
   "outputs": [],
   "source": [
    "df_ATR_normalized = df_ATR/df_close.rolling(14).mean()"
   ]
  },
  {
   "cell_type": "code",
   "execution_count": 167,
   "metadata": {},
   "outputs": [],
   "source": [
    "df_ATR_normalized_long = pd.melt(df_ATR_normalized.reset_index(),id_vars='DlyCalDt',var_name='Ticker',value_name='ATR_normalized')\n",
    "df_ATR_normalized_long['DlyCalDt'] = pd.to_datetime(df_ATR_normalized_long['DlyCalDt'])"
   ]
  },
  {
   "cell_type": "code",
   "execution_count": 168,
   "metadata": {},
   "outputs": [],
   "source": [
    "df_volatility = pd.merge(df_volatility,df_ATR_normalized_long,left_on=['timelag','Ticker'],right_on = ['DlyCalDt','Ticker'],how='left')\n",
    "ls_volatility += ['ATR_normalized']\n",
    "df_volatility = df_volatility[ls_volatility]"
   ]
  },
  {
   "cell_type": "markdown",
   "metadata": {},
   "source": [
    "## NATR"
   ]
  },
  {
   "cell_type": "markdown",
   "metadata": {},
   "source": [
    "### factor generation"
   ]
  },
  {
   "cell_type": "code",
   "execution_count": 169,
   "metadata": {},
   "outputs": [],
   "source": [
    "df_NATR = pd.DataFrame()\n",
    "for i in df_close.columns:\n",
    "    df_NATR[i] = talib.NATR(df_high[i],\n",
    "                      df_low[i],\n",
    "                      df_close[i],\n",
    "                      timeperiod=15)"
   ]
  },
  {
   "cell_type": "code",
   "execution_count": 170,
   "metadata": {},
   "outputs": [],
   "source": [
    "df_NATR_long = pd.melt(df_NATR.reset_index(),id_vars='DlyCalDt',var_name='Ticker',value_name='NATR')\n",
    "df_NATR_long['DlyCalDt'] = pd.to_datetime(df_NATR_long['DlyCalDt'])"
   ]
  },
  {
   "cell_type": "code",
   "execution_count": 171,
   "metadata": {},
   "outputs": [],
   "source": [
    "df_volatility = pd.merge(df_volatility,df_NATR_long,left_on=['timelag','Ticker'],right_on = ['DlyCalDt','Ticker'],how='left')\n",
    "ls_volatility += ['NATR']\n",
    "df_volatility = df_volatility[ls_volatility]"
   ]
  },
  {
   "cell_type": "markdown",
   "metadata": {},
   "source": [
    "## factor reserve"
   ]
  },
  {
   "cell_type": "code",
   "execution_count": 172,
   "metadata": {},
   "outputs": [
    {
     "data": {
      "text/plain": [
       "date              0\n",
       "Ticker            0\n",
       "timelag           0\n",
       "ATR               0\n",
       "ATR_normalized    0\n",
       "NATR              0\n",
       "dtype: int64"
      ]
     },
     "execution_count": 172,
     "metadata": {},
     "output_type": "execute_result"
    }
   ],
   "source": [
    "df_volatility.isnull().sum()"
   ]
  },
  {
   "cell_type": "code",
   "execution_count": 174,
   "metadata": {},
   "outputs": [],
   "source": [
    "df_volatility.drop(\"timelag\",axis = 1).to_pickle(\"factor/Volatility.pkl.zip\",compression='zip')"
   ]
  },
  {
   "cell_type": "code",
   "execution_count": null,
   "metadata": {},
   "outputs": [],
   "source": []
  }
 ],
 "metadata": {
  "kernelspec": {
   "display_name": "base",
   "language": "python",
   "name": "python3"
  },
  "language_info": {
   "codemirror_mode": {
    "name": "ipython",
    "version": 3
   },
   "file_extension": ".py",
   "mimetype": "text/x-python",
   "name": "python",
   "nbconvert_exporter": "python",
   "pygments_lexer": "ipython3",
   "version": "3.12.3"
  }
 },
 "nbformat": 4,
 "nbformat_minor": 2
}
